{
 "cells": [
  {
   "cell_type": "markdown",
   "metadata": {},
   "source": [
    "<div class=\"contentcontainer med left\" style=\"margin-left: -50px;\">\n",
    "<dl class=\"dl-horizontal\">\n",
    "  <dt>Description</dt> <dd> Template notebook</dd>\n",
    "  <dt>Author</dt> <dd>author name</dd>\n",
    "  <dt>HoloViews</dt> <dd>1.6.2</dd>\n",
    "  <dt>Python</dt> <dd>3.5</dd>\n",
    "</dl>\n",
    "</div>"
   ]
  },
  {
   "cell_type": "markdown",
   "metadata": {},
   "source": [
    "Please use this template when submitting notebooks for use with a live kernel. You may use Python 2 or Python 3 notebooks but we hope to encourage Python 3 notebooks as much as possible. Start by updating the description fields above and replace this paragraph with a suitable description.\n",
    "\n",
    "If there are special dependencies, please mention them here in the second paragraph. All dependencies for mybinder.org must be listed in the [environment.yml](https://github.com/ioam/holoviews-contrib/blob/master/environment.yml) so please submit a PR updating this file if you need something not already included. For local users, please list appropriate conda install or pip install instructions as follows:\n",
    "\n",
    "``conda install bokeh xarray``\n",
    "\n",
    "If you use conda, you can also use ``conda env attach`` to embed information about the dependencies as described [here](http://conda.pydata.org/docs/commands/env/conda-env-attach.html). That is it for template instructions and we look forward to your contribution!"
   ]
  }
 ],
 "metadata": {
  "kernelspec": {
   "display_name": "Python [default]",
   "language": "python",
   "name": "python3"
  },
  "language_info": {
   "codemirror_mode": {
    "name": "ipython",
    "version": 3
   },
   "file_extension": ".py",
   "mimetype": "text/x-python",
   "name": "python",
   "nbconvert_exporter": "python",
   "pygments_lexer": "ipython3",
   "version": "3.5.2"
  }
 },
 "nbformat": 4,
 "nbformat_minor": 0
}

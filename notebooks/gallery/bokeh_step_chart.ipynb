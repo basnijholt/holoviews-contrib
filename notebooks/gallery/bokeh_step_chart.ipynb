{
 "cells": [
  {
   "cell_type": "markdown",
   "metadata": {},
   "source": [
    "# Bokeh step_chart example\n",
    "\n",
    "URL: http://bokeh.pydata.org/en/latest/docs/gallery/step_chart.html"
   ]
  },
  {
   "cell_type": "code",
   "execution_count": null,
   "metadata": {
    "collapsed": false
   },
   "outputs": [],
   "source": [
    "import numpy as np\n",
    "import holoviews as hv\n",
    "hv.notebook_extension('bokeh')\n",
    "%output backend='matplotlib'"
   ]
  },
  {
   "cell_type": "markdown",
   "metadata": {},
   "source": [
    "## Declare data"
   ]
  },
  {
   "cell_type": "code",
   "execution_count": null,
   "metadata": {
    "collapsed": false
   },
   "outputs": [],
   "source": [
    "# build a dataset where multiple columns measure the same thing\n",
    "stamp    = [.33, .33, .34, .37, .37, .37, .37, .39, .41, .42,\n",
    "            .44, .44, .44, .45, .46, .49, .49]\n",
    "postcard = [.20, .20, .21, .23, .23, .23, .23, .24, .26, .27,\n",
    "            .28, .28, .29, .32, .33, .34, .35]\n",
    "\n",
    "group = \"U.S. Postage Rates (1999-2015)\"\n",
    "stamp    = hv.Curve(stamp, vdims=['Rate per ounce'], label='stamp', group=group)\n",
    "postcard = hv.Curve(postcard, vdims=['Rate per ounce'], label='postcard', group=group)\n",
    "postage = (stamp * postcard)"
   ]
  },
  {
   "cell_type": "markdown",
   "metadata": {},
   "source": [
    "## Matplotlib"
   ]
  },
  {
   "cell_type": "code",
   "execution_count": null,
   "metadata": {
    "collapsed": false
   },
   "outputs": [],
   "source": [
    "plot  = dict(interpolation='steps-mid')\n",
    "style = dict(linestyle=hv.Cycle(values=['--', '-']))\n",
    "legend = dict(legend_position='top_left')\n",
    "opts = {'Curve': {'style': style, 'plot': plot},\n",
    "        'Overlay': {'plot': legend}}\n",
    "\n",
    "postage(opts)"
   ]
  },
  {
   "cell_type": "markdown",
   "metadata": {},
   "source": [
    "## Bokeh"
   ]
  },
  {
   "cell_type": "code",
   "execution_count": null,
   "metadata": {
    "collapsed": false
   },
   "outputs": [],
   "source": [
    "%%output backend='bokeh'\n",
    "plot  = dict(interpolation='steps-mid', width=400, height=400)\n",
    "style = dict(line_dash=hv.Cycle(values=['dashed', 'solid']))\n",
    "legend = dict(legend_position='top_left')\n",
    "opts = {'Curve': {'style': style, 'plot': plot},\n",
    "        'Overlay': {'plot': legend}}\n",
    "\n",
    "postage(opts)"
   ]
  }
 ],
 "metadata": {
  "language_info": {
   "codemirror_mode": {
    "name": "ipython",
    "version": 2
   },
   "file_extension": ".py",
   "mimetype": "text/x-python",
   "name": "python",
   "nbconvert_exporter": "python",
   "pygments_lexer": "ipython2",
   "version": "2.7.11"
  }
 },
 "nbformat": 4,
 "nbformat_minor": 2
}

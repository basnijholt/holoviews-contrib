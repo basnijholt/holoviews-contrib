{
 "cells": [
  {
   "cell_type": "markdown",
   "metadata": {
    "deletable": true,
    "editable": true
   },
   "source": [
    "# Boxplot demo\n",
    "\n",
    "URL: http://matplotlib.org/examples/statistics/boxplot_demo.html"
   ]
  },
  {
   "cell_type": "code",
   "execution_count": null,
   "metadata": {
    "collapsed": false,
    "deletable": true,
    "editable": true
   },
   "outputs": [],
   "source": [
    "import numpy as np\n",
    "import holoviews as hv\n",
    "hv.notebook_extension('bokeh')\n",
    "%output backend='matplotlib'"
   ]
  },
  {
   "cell_type": "markdown",
   "metadata": {},
   "source": [
    "## Define data"
   ]
  },
  {
   "cell_type": "code",
   "execution_count": null,
   "metadata": {
    "collapsed": false
   },
   "outputs": [],
   "source": [
    "np.random.seed(937)\n",
    "data = np.random.lognormal(size=(37, 4), mean=1.5, sigma=1.75)\n",
    "labels = list('ABCD')*37\n",
    "\n",
    "gm = hv.GridMatrix()\n",
    "boxplot = hv.BoxWhisker((labels, data.flatten()), kdims=['Labels'], vdims=[], label='Default')\n",
    "opts = [dict(), dict(showmeans=True), dict(showmeans=True, meanline=True),\n",
    "        dict(showbox=False, showcaps=False), dict(notch=True, bootstrap=10000),\n",
    "        dict(showfliers=False)]\n",
    "\n",
    "for i, opt in enumerate(opts):\n",
    "    gm[(i%3, i//3)] = boxplot.relabel(',\\n'.join(map(str, opt.items())))(style=opt)"
   ]
  },
  {
   "cell_type": "markdown",
   "metadata": {},
   "source": [
    "## Matplotlib"
   ]
  },
  {
   "cell_type": "code",
   "execution_count": null,
   "metadata": {
    "collapsed": false,
    "deletable": true,
    "editable": true
   },
   "outputs": [],
   "source": [
    "%%output dpi=120\n",
    "%%opts BoxWhisker [logy=True show_title=True] GridMatrix [show_title=False fig_inches=8]\n",
    "gm"
   ]
  }
 ],
 "metadata": {
  "anaconda-cloud": {},
  "language_info": {
   "codemirror_mode": {
    "name": "ipython",
    "version": 2
   },
   "file_extension": ".py",
   "mimetype": "text/x-python",
   "name": "python",
   "nbconvert_exporter": "python",
   "pygments_lexer": "ipython2",
   "version": "2.7.11"
  }
 },
 "nbformat": 4,
 "nbformat_minor": 2
}

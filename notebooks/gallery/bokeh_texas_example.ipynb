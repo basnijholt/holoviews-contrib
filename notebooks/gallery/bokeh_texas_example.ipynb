{
 "cells": [
  {
   "cell_type": "markdown",
   "metadata": {
    "deletable": true,
    "editable": true
   },
   "source": [
    "# Bokeh Texas choropleth example\n",
    "\n",
    "URL: http://bokeh.pydata.org/en/latest/docs/gallery/texas.html"
   ]
  },
  {
   "cell_type": "code",
   "execution_count": null,
   "metadata": {
    "collapsed": false,
    "deletable": true,
    "editable": true
   },
   "outputs": [],
   "source": [
    "import numpy as np\n",
    "import holoviews as hv\n",
    "hv.notebook_extension('bokeh')\n",
    "%output backend='matplotlib'"
   ]
  },
  {
   "cell_type": "markdown",
   "metadata": {},
   "source": [
    "# Declaring data"
   ]
  },
  {
   "cell_type": "code",
   "execution_count": null,
   "metadata": {
    "collapsed": false,
    "deletable": true,
    "editable": true
   },
   "outputs": [],
   "source": [
    "from bokeh.sampledata.us_counties import data as counties\n",
    "from bokeh.sampledata.unemployment import data as unemployment\n",
    "\n",
    "counties = {\n",
    "    code: county for code, county in counties.items() if county[\"state\"] == \"tx\"\n",
    "}\n",
    "\n",
    "county_xs = [county[\"lons\"] for county in counties.values()]\n",
    "county_ys = [county[\"lats\"] for county in counties.values()]\n",
    "\n",
    "county_names = [county['name'] for county in counties.values()]\n",
    "county_rates = [unemployment[county_id] for county_id in counties]\n",
    "\n",
    "county_polys = {name: hv.Polygons((xs, ys), level=rate, vdims=['Unemployment'])\n",
    "                for name, xs, ys, rate in zip(county_names, county_xs, county_ys, county_rates)}\n",
    "\n",
    "choropleth = hv.NdOverlay(county_polys, kdims=['County'])"
   ]
  },
  {
   "cell_type": "markdown",
   "metadata": {},
   "source": [
    "## Matplotlib"
   ]
  },
  {
   "cell_type": "code",
   "execution_count": null,
   "metadata": {
    "collapsed": false
   },
   "outputs": [],
   "source": [
    "plot_opts = dict(logz=True, tools=['hover'], xaxis=None, yaxis=None,\n",
    "                 show_grid=False, show_frame=False, fig_size=200, bgcolor='white')\n",
    "style = dict(edgecolor='white')\n",
    "\n",
    "choropleth({'Polygons': {'style': style, 'plot': plot_opts}})"
   ]
  },
  {
   "cell_type": "markdown",
   "metadata": {},
   "source": [
    "## Bokeh"
   ]
  },
  {
   "cell_type": "code",
   "execution_count": null,
   "metadata": {
    "collapsed": false
   },
   "outputs": [],
   "source": [
    "%%output backend='bokeh'\n",
    "\n",
    "plot_opts = dict(logz=True, tools=['hover'], xaxis=None, yaxis=None,\n",
    "                 show_grid=False, show_frame=False, width=500, height=500)\n",
    "style = dict(line_color='white')\n",
    "\n",
    "choropleth({'Polygons': {'style': style, 'plot': plot_opts}})"
   ]
  }
 ],
 "metadata": {
  "anaconda-cloud": {},
  "language_info": {
   "codemirror_mode": {
    "name": "ipython",
    "version": 2
   },
   "file_extension": ".py",
   "mimetype": "text/x-python",
   "name": "python",
   "nbconvert_exporter": "python",
   "pygments_lexer": "ipython2",
   "version": "2.7.11"
  }
 },
 "nbformat": 4,
 "nbformat_minor": 2
}

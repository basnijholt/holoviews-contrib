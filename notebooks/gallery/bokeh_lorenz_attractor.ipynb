{
 "cells": [
  {
   "cell_type": "markdown",
   "metadata": {},
   "source": [
    "# Bokeh lorenz example\n",
    "\n",
    "URL: http://bokeh.pydata.org/en/latest/docs/gallery/lorenz.html"
   ]
  },
  {
   "cell_type": "code",
   "execution_count": null,
   "metadata": {
    "collapsed": false
   },
   "outputs": [],
   "source": [
    "import numpy as np\n",
    "import holoviews as hv\n",
    "hv.notebook_extension('bokeh')\n",
    "%output backend='matplotlib'"
   ]
  },
  {
   "cell_type": "markdown",
   "metadata": {},
   "source": [
    "## Declare the data"
   ]
  },
  {
   "cell_type": "code",
   "execution_count": null,
   "metadata": {
    "collapsed": true
   },
   "outputs": [],
   "source": [
    "import numpy as np\n",
    "from scipy.integrate import odeint\n",
    "\n",
    "from bokeh.plotting import figure, show, output_file\n",
    "\n",
    "sigma = 10\n",
    "rho = 28\n",
    "beta = 8.0/3\n",
    "theta = 3 * np.pi / 4\n",
    "\n",
    "def lorenz(xyz, t):\n",
    "    x, y, z = xyz\n",
    "    x_dot = sigma * (y - x)\n",
    "    y_dot = x * rho - x * z - y\n",
    "    z_dot = x * y - beta* z\n",
    "    return [x_dot, y_dot, z_dot]\n",
    "\n",
    "initial = (-10, -7, 35)\n",
    "t = np.arange(0, 100, 0.006)\n",
    "\n",
    "solution = odeint(lorenz, initial, t)\n",
    "\n",
    "x = solution[:, 0]\n",
    "y = solution[:, 1]\n",
    "z = solution[:, 2]\n",
    "xprime = np.cos(theta) * x - np.sin(theta) * y\n",
    "\n",
    "lorenzian = hv.Overlay([hv.Path(d) for d in zip(np.array_split(xprime, 7), np.array_split(z, 7))])"
   ]
  },
  {
   "cell_type": "markdown",
   "metadata": {},
   "source": [
    "## Matplotlib"
   ]
  },
  {
   "cell_type": "code",
   "execution_count": null,
   "metadata": {
    "collapsed": false
   },
   "outputs": [],
   "source": [
    "lorenzian(style={'Path': dict(color=hv.Palette('Blues'), linewidth=1)})"
   ]
  },
  {
   "cell_type": "markdown",
   "metadata": {},
   "source": [
    "## Bokeh"
   ]
  },
  {
   "cell_type": "code",
   "execution_count": null,
   "metadata": {
    "collapsed": false
   },
   "outputs": [],
   "source": [
    "%%output backend='bokeh'\n",
    "lorenzian(style={'Path': dict(color=hv.Palette('Blues'))})"
   ]
  }
 ],
 "metadata": {
  "anaconda-cloud": {},
  "language_info": {
   "codemirror_mode": {
    "name": "ipython",
    "version": 2
   },
   "file_extension": ".py",
   "mimetype": "text/x-python",
   "name": "python",
   "nbconvert_exporter": "python",
   "pygments_lexer": "ipython2",
   "version": "2.7.11"
  }
 },
 "nbformat": 4,
 "nbformat_minor": 2
}

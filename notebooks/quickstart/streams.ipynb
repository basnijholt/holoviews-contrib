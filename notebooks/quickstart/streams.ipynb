{
 "cells": [
  {
   "cell_type": "markdown",
   "metadata": {},
   "source": [
    "<div class=\"contentcontainer med left\" style=\"margin-left: -50px;\">\n",
    "<dl class=\"dl-horizontal\">\n",
    "  <dt>Description</dt> <dd> Streams quickstart guide</dd>\n",
    "  <dt>Author</dt> <dd>Jean-Luc Stevens</dd>\n",
    "  <dt>HoloViews</dt> <dd>>1.6.2</dd>\n",
    "  <dt>Python</dt> <dd>2.7/3.3+</dd>\n",
    "</dl>\n",
    "</div>"
   ]
  },
  {
   "cell_type": "markdown",
   "metadata": {},
   "source": [
    "This quickstart is designed to introduce the basics of the streams system planned for HoloViews 1.7. A stream is a simple object with a set of parameters that allow events to affect a displayable HoloViews object. Starting with a simple function to generate NumPy arrays, this quickstart guide serves as a short introduction to the ``Image`` element, ``DynamicMap`` and finally an example of how streams are used. This notebook uses core HoloViews together with the matplotlib backend."
   ]
  },
  {
   "cell_type": "code",
   "execution_count": null,
   "metadata": {
    "collapsed": false
   },
   "outputs": [],
   "source": [
    "import holoviews as hv\n",
    "import numpy as np\n",
    "from holoviews.streams import Stream\n",
    "hv.notebook_extension()"
   ]
  },
  {
   "cell_type": "markdown",
   "metadata": {},
   "source": [
    "# Simple NumPy arrays"
   ]
  },
  {
   "cell_type": "markdown",
   "metadata": {},
   "source": [
    "The following function generates 2D NumPy arrays that generates a pattern:"
   ]
  },
  {
   "cell_type": "code",
   "execution_count": null,
   "metadata": {
    "collapsed": false
   },
   "outputs": [],
   "source": [
    "xvals = np.linspace(-4,0,202)\n",
    "yvals = np.linspace(4,0,202)\n",
    "xs,ys = np.meshgrid(xvals, yvals)\n",
    "\n",
    "def waves_array(alpha, beta):\n",
    "    return np.sin(((ys/alpha)**alpha+beta)*xs)"
   ]
  },
  {
   "cell_type": "markdown",
   "metadata": {},
   "source": [
    "Here is an example array generated using ``alpha=0`` and ``beta=1``. We can see it is a ``numpy.ndarray`` with a shape of ``(101,101)``."
   ]
  },
  {
   "cell_type": "code",
   "execution_count": null,
   "metadata": {
    "collapsed": false
   },
   "outputs": [],
   "source": [
    "arr = waves_array(0,1)\n",
    "print(type(arr))\n",
    "print(arr.shape)"
   ]
  },
  {
   "cell_type": "markdown",
   "metadata": {},
   "source": [
    "# ``hv.Image``"
   ]
  },
  {
   "cell_type": "markdown",
   "metadata": {},
   "source": [
    "The following function generates an array with ``waves_array`` and passes is to a ``hv.Image`` element:"
   ]
  },
  {
   "cell_type": "code",
   "execution_count": null,
   "metadata": {
    "collapsed": false
   },
   "outputs": [],
   "source": [
    "def waves_image(alpha, beta):\n",
    "    return hv.Image(waves_array(alpha, beta))"
   ]
  },
  {
   "cell_type": "markdown",
   "metadata": {},
   "source": [
    "Here is an example of the output:"
   ]
  },
  {
   "cell_type": "code",
   "execution_count": null,
   "metadata": {
    "collapsed": false
   },
   "outputs": [],
   "source": [
    "waves_image(0,1)"
   ]
  },
  {
   "cell_type": "markdown",
   "metadata": {},
   "source": [
    "And as with all HoloViews elements, you can use the ``+`` operator to generate a layout:"
   ]
  },
  {
   "cell_type": "code",
   "execution_count": null,
   "metadata": {
    "collapsed": false
   },
   "outputs": [],
   "source": [
    "waves_image(0,1) + waves_image(0.5,2)"
   ]
  },
  {
   "cell_type": "markdown",
   "metadata": {},
   "source": [
    "For more information about HoloViews elements such as ``Image``, see the [Elements tutorial](http://holoviews.org/Tutorials/Elements.html). For more information about the ``+`` operator and ``Layout`` objects, see the [Containers tutorial](http://holoviews.org/Tutorials/Containers.html)."
   ]
  },
  {
   "cell_type": "markdown",
   "metadata": {},
   "source": [
    "# DynamicMap"
   ]
  },
  {
   "cell_type": "markdown",
   "metadata": {},
   "source": [
    "We can use our ``waves_image`` function in a HoloViews ``DynamicMap`` to interactively explore this alpha and beta space by declaring ``alpha`` and ``beta`` dimensions with appropriate ranges. Note that this example and those that follow need a live notebook kernel to work such as [this one on mybinder](http://mybinder.org/repo/ioam/holoviews-contrib/notebooks/notebooks/quickstart/Streams.ipynb):"
   ]
  },
  {
   "cell_type": "code",
   "execution_count": null,
   "metadata": {
    "collapsed": false
   },
   "outputs": [],
   "source": [
    "hv.DynamicMap(waves_image, kdims=[hv.Dimension('alpha',range=(0, np.pi)),\n",
    "                                 hv.Dimension('beta', range=(0.01,np.pi))])"
   ]
  },
  {
   "cell_type": "markdown",
   "metadata": {},
   "source": [
    "A DynamicMap takes a callable (such as a function) that returns HoloViews elements and uses it to dynamically update a visualization. In the example above, this callable receives the ``alpha`` and ``beta`` values as positional arguments as specified by the two numeric sliders. For more information about ``DynamicMap``, see the [DynamicMap tutorial](http://holoviews.org/Tutorials/Dynamic_Map.html)."
   ]
  },
  {
   "cell_type": "markdown",
   "metadata": {},
   "source": [
    "## Streams"
   ]
  },
  {
   "cell_type": "markdown",
   "metadata": {},
   "source": [
    "Streams are a new type of object introduced after the HoloViews 1.6.2 release. Many streams are ready to import and use directly but in this quickstart we will create a custom stream by subclassing from ``Stream``:"
   ]
  },
  {
   "cell_type": "code",
   "execution_count": null,
   "metadata": {
    "collapsed": false
   },
   "outputs": [],
   "source": [
    "import param\n",
    "from holoviews.streams import Stream\n",
    "\n",
    "class WaveParams(Stream):\n",
    "    \n",
    "    alpha = param.Number(default=0)\n",
    "    \n",
    "    beta = param.Number(default=0.01)"
   ]
  },
  {
   "cell_type": "markdown",
   "metadata": {},
   "source": [
    "All that is necessary is to declare parameters using the [param library](http://ioam.github.io/param/). This is not a special property of Streams as almost all HoloViews objects are parametrized in this way. \n",
    "\n",
    "We can how make instances of this stream type:"
   ]
  },
  {
   "cell_type": "code",
   "execution_count": null,
   "metadata": {
    "collapsed": false
   },
   "outputs": [],
   "source": [
    "waves_params = WaveParams() \n",
    "\n",
    "print('Initial alpha: %s' % waves_params.alpha)\n",
    "print('Initial beta: %s' % waves_params.beta)"
   ]
  },
  {
   "cell_type": "markdown",
   "metadata": {},
   "source": [
    "As you can see, this instance uses the parameter defaults defined in the class definition above. We can also supply the values we want to initialize the stream with:"
   ]
  },
  {
   "cell_type": "code",
   "execution_count": null,
   "metadata": {
    "collapsed": false
   },
   "outputs": [],
   "source": [
    "waves_params = WaveParams(alpha=0.5, beta=0.1)\n",
    "\n",
    "print('Initial alpha: %s' % waves_params.alpha)\n",
    "print('Initial beta: %s' % waves_params.beta)"
   ]
  },
  {
   "cell_type": "markdown",
   "metadata": {},
   "source": [
    "What streams do is to supply an ``update`` method to update these parameter values which will also update the visualization in the notebook as we will see in the next section:"
   ]
  },
  {
   "cell_type": "code",
   "execution_count": null,
   "metadata": {
    "collapsed": false
   },
   "outputs": [],
   "source": [
    "waves_params.update(alpha=0.3, beta=1)\n",
    "\n",
    "print('Updated alpha: %s' % waves_params.alpha)\n",
    "print('Updated beta: %s' % waves_params.beta)"
   ]
  },
  {
   "cell_type": "markdown",
   "metadata": {},
   "source": [
    "The ``update`` method updates stream parameters and does nothing else. The ``event`` method on both ``Stream`` objects and ``DynamicMap`` behave just like ``update`` but also trigger the associated visualization to refresh as we will now show."
   ]
  },
  {
   "cell_type": "markdown",
   "metadata": {},
   "source": [
    "# Streams and DynamicMap"
   ]
  },
  {
   "cell_type": "markdown",
   "metadata": {},
   "source": [
    "To use streams, you supply them to a ``DynamicMap`` using the ``streams`` argument instead of the ``kdims`` which were used to generate the slider example above:"
   ]
  },
  {
   "cell_type": "code",
   "execution_count": null,
   "metadata": {
    "collapsed": false
   },
   "outputs": [],
   "source": [
    "dmap = hv.DynamicMap(waves_image, kdims=[], streams=[waves_params])\n",
    "dmap"
   ]
  },
  {
   "cell_type": "markdown",
   "metadata": {},
   "source": [
    "The stream now lets us control the alpha and beta of the visualization above instead of using sliders. Running the following cell will double the beta parameter of the wave pattern (just as we saw this ``update`` in the previous section) and will update the visualization shown above:"
   ]
  },
  {
   "cell_type": "code",
   "execution_count": null,
   "metadata": {
    "collapsed": true
   },
   "outputs": [],
   "source": [
    "waves_params.event(beta=2)"
   ]
  },
  {
   "cell_type": "markdown",
   "metadata": {},
   "source": [
    "We did not need to change the ``waves_image`` callback - whereas the arguments were passed in by position when ``kdims`` were used (see the sliders example above) they are now passed by name via keyword arguments.\n",
    "\n",
    "As a ``DynamicMap`` can have access to the parameters to multiple streams, having to hold handles to the stream objects themselves can be awkward. The recommended way to update *any* of the available stream parameters is to call the ``event`` method on the ``DynamicMap`` itself:"
   ]
  },
  {
   "cell_type": "code",
   "execution_count": null,
   "metadata": {
    "collapsed": true
   },
   "outputs": [],
   "source": [
    "dmap.event(beta=3)"
   ]
  },
  {
   "cell_type": "markdown",
   "metadata": {},
   "source": [
    "This approach only requires a handle on the DynamicMap (``dmap``), allowing you to declare the streams at the same time as you declare the rest of the ``DynamicMap``. In other words, we could have declared our dynamicmap in a single line using:\n",
    "\n",
    "```\n",
    "dmap = hv.DynamicMap(waves_image, kdims=[], streams=[WaveParams()])\n",
    "```"
   ]
  },
  {
   "cell_type": "markdown",
   "metadata": {},
   "source": [
    "Now we will update the alpha of the plot above using a simple loop:"
   ]
  },
  {
   "cell_type": "code",
   "execution_count": null,
   "metadata": {
    "collapsed": true
   },
   "outputs": [],
   "source": [
    "for alpha in np.linspace(0.1, 2):\n",
    "    dmap.event(alpha=alpha)"
   ]
  },
  {
   "cell_type": "markdown",
   "metadata": {},
   "source": [
    "Of course we can also update the beta and alpha values together:"
   ]
  },
  {
   "cell_type": "code",
   "execution_count": null,
   "metadata": {
    "collapsed": true
   },
   "outputs": [],
   "source": [
    "dmap.event(beta=2, alpha=1.5)"
   ]
  },
  {
   "cell_type": "markdown",
   "metadata": {},
   "source": [
    "And then set it back to zero alpha:"
   ]
  },
  {
   "cell_type": "code",
   "execution_count": null,
   "metadata": {
    "collapsed": true
   },
   "outputs": [],
   "source": [
    "dmap.event(beta=2, alpha=0)"
   ]
  },
  {
   "cell_type": "markdown",
   "metadata": {},
   "source": [
    "Now lets update the alpha in a loop - watch the plot animate above!"
   ]
  },
  {
   "cell_type": "code",
   "execution_count": null,
   "metadata": {
    "collapsed": false
   },
   "outputs": [],
   "source": [
    "alpha, beta = 0, 2\n",
    "for i in range(600):\n",
    "    alpha += 0.1\n",
    "    dmap.event(alpha=alpha, beta=beta)"
   ]
  },
  {
   "cell_type": "markdown",
   "metadata": {},
   "source": [
    "``DynamicMap`` objects with streams act like any other HoloViews objects - you can compose them in Layouts with ``+`` and use the option system too:"
   ]
  },
  {
   "cell_type": "code",
   "execution_count": null,
   "metadata": {
    "collapsed": false
   },
   "outputs": [],
   "source": [
    "%%opts Image (cmap='viridis')\n",
    "layout = hv.DynamicMap(waves_image, kdims=[], streams=[WaveParams(beta=1)]) + waves_image(0,1)\n",
    "layout"
   ]
  },
  {
   "cell_type": "markdown",
   "metadata": {},
   "source": [
    "Now we can update the alpha in a loop by accessing the ``DynamicMap`` in the ``Layout`` and calling the ``event`` method:"
   ]
  },
  {
   "cell_type": "code",
   "execution_count": null,
   "metadata": {
    "collapsed": true
   },
   "outputs": [],
   "source": [
    "alpha = 0\n",
    "for i in range(50):\n",
    "    alpha += 0.3\n",
    "    layout.DynamicMap.I.event(alpha=alpha)"
   ]
  },
  {
   "cell_type": "markdown",
   "metadata": {},
   "source": [
    "Note that had we shared the stream instance (i.e used ``waves_params`` above) we could have used this loop to update two visualizations at once.\n",
    "\n",
    "You will notice that the visualizations updates slower as the layout a more complex plot. For many elements, you will get get better performance using the [Bokeh backend](http://holoviews.org/Tutorials/Bokeh_Elements.html) and for more information about the options system, see the [Options tutorial](http://holoviews.org/Tutorials/Options.html)."
   ]
  }
 ],
 "metadata": {
  "kernelspec": {
   "display_name": "Python 2",
   "language": "python",
   "name": "python2"
  },
  "language_info": {
   "codemirror_mode": {
    "name": "ipython",
    "version": 2
   },
   "file_extension": ".py",
   "mimetype": "text/x-python",
   "name": "python",
   "nbconvert_exporter": "python",
   "pygments_lexer": "ipython2",
   "version": "2.7.12"
  }
 },
 "nbformat": 4,
 "nbformat_minor": 0
}

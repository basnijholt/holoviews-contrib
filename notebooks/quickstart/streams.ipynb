{
 "cells": [
  {
   "cell_type": "markdown",
   "metadata": {},
   "source": [
    "<div class=\"contentcontainer med left\" style=\"margin-left: -50px;\">\n",
    "<dl class=\"dl-horizontal\">\n",
    "  <dt>Description</dt> <dd> Streams quickstart guide</dd>\n",
    "  <dt>Author</dt> <dd>Jean-Luc Stevens</dd>\n",
    "  <dt>HoloViews</dt> <dd>>1.6.2</dd>\n",
    "  <dt>Python</dt> <dd>2.7/3.3+</dd>\n",
    "</dl>\n",
    "</div>"
   ]
  },
  {
   "cell_type": "markdown",
   "metadata": {},
   "source": [
    "This quickstart is designed to introduce the basics of the streams system planned for HoloViews 1.7. A stream is a simple object with a set of parameters that allow events to affect a displayable HoloViews object. Starting with a simple function to generate NumPy arrays, this quickstart guide serves as a short introduction to the ``Image`` element, ``DynamicMap`` and finally an example of how streams are used. This notebook uses core HoloViews together with the matplotlib backend."
   ]
  },
  {
   "cell_type": "code",
   "execution_count": null,
   "metadata": {
    "collapsed": false
   },
   "outputs": [],
   "source": [
    "import holoviews as hv\n",
    "import numpy as np\n",
    "from holoviews.streams import Stream\n",
    "hv.notebook_extension()"
   ]
  },
  {
   "cell_type": "markdown",
   "metadata": {},
   "source": [
    "# Simple NumPy arrays"
   ]
  },
  {
   "cell_type": "markdown",
   "metadata": {},
   "source": [
    "The following function generates 2D NumPy arrays that sample a sinusoidal pattern:"
   ]
  },
  {
   "cell_type": "code",
   "execution_count": null,
   "metadata": {
    "collapsed": false
   },
   "outputs": [],
   "source": [
    "x,y = np.mgrid[-50:51, -50:51] * 0.1\n",
    "\n",
    "def sine_array(phase, freq):\n",
    "    return np.sin(phase + (freq*x**2+freq*y**2))"
   ]
  },
  {
   "cell_type": "markdown",
   "metadata": {},
   "source": [
    "Here is an example array generated using ``phase=0`` and ``freq=1``. We can see it is a ``numpy.ndarray`` with a shape of ``(101,101)``."
   ]
  },
  {
   "cell_type": "code",
   "execution_count": null,
   "metadata": {
    "collapsed": false
   },
   "outputs": [],
   "source": [
    "arr = sine_array(0,1)\n",
    "print(type(arr))\n",
    "print(arr.shape)"
   ]
  },
  {
   "cell_type": "markdown",
   "metadata": {},
   "source": [
    "# ``hv.Image``"
   ]
  },
  {
   "cell_type": "markdown",
   "metadata": {},
   "source": [
    "The following function generates an array with ``sine_array`` and passes is to a ``hv.Image`` element:"
   ]
  },
  {
   "cell_type": "code",
   "execution_count": null,
   "metadata": {
    "collapsed": false
   },
   "outputs": [],
   "source": [
    "def sine_image(phase, freq):\n",
    "    return hv.Image(sine_array(phase, freq))"
   ]
  },
  {
   "cell_type": "markdown",
   "metadata": {},
   "source": [
    "Here is an example of the output:"
   ]
  },
  {
   "cell_type": "code",
   "execution_count": null,
   "metadata": {
    "collapsed": false
   },
   "outputs": [],
   "source": [
    "sine_image(0,1)"
   ]
  },
  {
   "cell_type": "markdown",
   "metadata": {},
   "source": [
    "And as with all HoloViews elements, you can use the ``+`` operator to generate a layout:"
   ]
  },
  {
   "cell_type": "code",
   "execution_count": null,
   "metadata": {
    "collapsed": false
   },
   "outputs": [],
   "source": [
    "sine_image(0,1) + sine_image(0.5,2)"
   ]
  },
  {
   "cell_type": "markdown",
   "metadata": {},
   "source": [
    "For more information about HoloViews elements such as ``Image``, see the [Elements tutorial](http://holoviews.org/Tutorials/Elements.html). For more information about the ``+`` operator and ``Layout`` objects, see the [Containers tutorial](http://holoviews.org/Tutorials/Containers.html)."
   ]
  },
  {
   "cell_type": "markdown",
   "metadata": {},
   "source": [
    "# DynamicMap"
   ]
  },
  {
   "cell_type": "markdown",
   "metadata": {},
   "source": [
    "We can use our ``sin_image`` function in a HoloViews ``DynamicMap`` to interactively explore this phase and frequency space by declaring ``phase`` and ``frequency`` dimensions with appropriate ranges. Note that this example and those that follow need a live notebook kernel to work such as [this one on mybinder](http://mybinder.org/repo/ioam/holoviews-contrib/notebooks/notebooks/quickstart/Streams.ipynb):"
   ]
  },
  {
   "cell_type": "code",
   "execution_count": null,
   "metadata": {
    "collapsed": false
   },
   "outputs": [],
   "source": [
    "hv.DynamicMap(sine_image, kdims=[hv.Dimension('phase',range=(0, np.pi)),\n",
    "                                 hv.Dimension('frequency', range=(0.01,np.pi))])"
   ]
  },
  {
   "cell_type": "markdown",
   "metadata": {},
   "source": [
    "A DynamicMap takes a callable (such as a function) that returns HoloViews elements and uses it to dynamically update a visualization. In the example above, this callable receives the ``phase`` and ``frequency`` values as positional arguments as specified by the two numeric sliders. For more information about ``DynamicMap``, see the [DynamicMap tutorial](http://holoviews.org/Tutorials/Dynamic_Map.html)."
   ]
  },
  {
   "cell_type": "markdown",
   "metadata": {},
   "source": [
    "## Streams"
   ]
  },
  {
   "cell_type": "markdown",
   "metadata": {},
   "source": [
    "Streams are a new type of object introduced after the HoloViews 1.6.2 release. Many streams are ready to import and use directly but in this quickstart we will create a custom stream by subclassing from ``Stream``:"
   ]
  },
  {
   "cell_type": "code",
   "execution_count": null,
   "metadata": {
    "collapsed": false
   },
   "outputs": [],
   "source": [
    "import param\n",
    "from holoviews.streams import Stream\n",
    "\n",
    "class SineParameters(Stream):\n",
    "    \n",
    "    phase = param.Number(default=0)\n",
    "    \n",
    "    freq = param.Number(default=0.01)"
   ]
  },
  {
   "cell_type": "markdown",
   "metadata": {},
   "source": [
    "All that is necessary is to declare parameters using the [param library](http://ioam.github.io/param/). This is not a special property of Streams as almost all HoloViews objects are parametrized in this way. \n",
    "\n",
    "We can how make instances of this stream type:"
   ]
  },
  {
   "cell_type": "code",
   "execution_count": null,
   "metadata": {
    "collapsed": false
   },
   "outputs": [],
   "source": [
    "sine_params = SineParameters() \n",
    "\n",
    "print('Initial Phase: %s' % sine_params.phase)\n",
    "print('Initial Frequency: %s' % sine_params.freq)"
   ]
  },
  {
   "cell_type": "markdown",
   "metadata": {},
   "source": [
    "As you can see, this instance uses the parameter defaults defined in the class definition above. We can also supply the values we want to initialize the stream with:"
   ]
  },
  {
   "cell_type": "code",
   "execution_count": null,
   "metadata": {
    "collapsed": false
   },
   "outputs": [],
   "source": [
    "sine_params = SineParameters(phase=0.5, freq=0.1)\n",
    "\n",
    "print('Initial Phase: %s' % sine_params.phase)\n",
    "print('Initial Frequency: %s' % sine_params.freq)"
   ]
  },
  {
   "cell_type": "markdown",
   "metadata": {},
   "source": [
    "What streams do is to supply an ``update`` method to update these parameter values which will also update the visualization in the notebook as we will see in the next section:"
   ]
  },
  {
   "cell_type": "code",
   "execution_count": null,
   "metadata": {
    "collapsed": false
   },
   "outputs": [],
   "source": [
    "sine_params.update(phase=0.3, freq=1)\n",
    "\n",
    "print('Updated Phase: %s' % sine_params.phase)\n",
    "print('Updated Frequency: %s' % sine_params.freq)"
   ]
  },
  {
   "cell_type": "markdown",
   "metadata": {},
   "source": [
    "# Streams and DynamicMap"
   ]
  },
  {
   "cell_type": "markdown",
   "metadata": {},
   "source": [
    "To use streams, you supply them to a ``DynamicMap`` using the ``streams`` argument instead of the ``kdims`` which were used to generate the slider example above:"
   ]
  },
  {
   "cell_type": "code",
   "execution_count": null,
   "metadata": {
    "collapsed": false
   },
   "outputs": [],
   "source": [
    "hv.DynamicMap(sine_image, kdims=[], streams=[sine_params])"
   ]
  },
  {
   "cell_type": "markdown",
   "metadata": {},
   "source": [
    "The stream now lets us control the phase and frequency of the visualization above instead of using sliders. Running the following cell will double the frequency of the sinusoidal rings shown above:"
   ]
  },
  {
   "cell_type": "code",
   "execution_count": null,
   "metadata": {
    "collapsed": true
   },
   "outputs": [],
   "source": [
    "sine_params.update(freq=2)"
   ]
  },
  {
   "cell_type": "markdown",
   "metadata": {},
   "source": [
    "We did not need to change the ``sine_image`` callback - whereas the arguments were passed in by position when ``kdims`` were used (see the sliders example above) they are now passed by name via keyword arguments.\n",
    "\n",
    "Now we will update the frequency of the plot above using a simple loop:"
   ]
  },
  {
   "cell_type": "code",
   "execution_count": null,
   "metadata": {
    "collapsed": true
   },
   "outputs": [],
   "source": [
    "for freq in np.linspace(0.1, 2):\n",
    "    sine_params.update(freq=freq)"
   ]
  },
  {
   "cell_type": "markdown",
   "metadata": {},
   "source": [
    "Of course we can also update the phase to $\\frac{\\pi}{2}$:"
   ]
  },
  {
   "cell_type": "code",
   "execution_count": null,
   "metadata": {
    "collapsed": true
   },
   "outputs": [],
   "source": [
    "sine_params.update(freq=2, phase=np.pi/2)"
   ]
  },
  {
   "cell_type": "markdown",
   "metadata": {},
   "source": [
    "And then set it back to zero phase:"
   ]
  },
  {
   "cell_type": "code",
   "execution_count": null,
   "metadata": {
    "collapsed": true
   },
   "outputs": [],
   "source": [
    "sine_params.update(freq=2, phase=0)"
   ]
  },
  {
   "cell_type": "markdown",
   "metadata": {},
   "source": [
    "Now lets update the phase in a loop - watch the plot animate above!"
   ]
  },
  {
   "cell_type": "code",
   "execution_count": null,
   "metadata": {
    "collapsed": false
   },
   "outputs": [],
   "source": [
    "phase = 0\n",
    "for i in range(200):\n",
    "    phase += 0.3\n",
    "    sine_params.update(phase=phase)"
   ]
  },
  {
   "cell_type": "markdown",
   "metadata": {},
   "source": [
    "``DynamicMap`` objects with streams act like any other HoloViews objects - you can compose them in Layouts with ``+`` and use the option system too:"
   ]
  },
  {
   "cell_type": "code",
   "execution_count": null,
   "metadata": {
    "collapsed": false
   },
   "outputs": [],
   "source": [
    "%%opts Image (cmap='viridis')\n",
    "hv.DynamicMap(sine_image, kdims=[], streams=[sine_params]) + sine_image(0,1)"
   ]
  },
  {
   "cell_type": "markdown",
   "metadata": {},
   "source": [
    "Note that when you update the phase in a loop, both the visualization above and the one before it update as both of the ``DynamicMap`` object involves use the same stream:"
   ]
  },
  {
   "cell_type": "code",
   "execution_count": null,
   "metadata": {
    "collapsed": true
   },
   "outputs": [],
   "source": [
    "phase = 0\n",
    "for i in range(50):\n",
    "    phase += 0.3\n",
    "    sine_params.update(phase=phase)"
   ]
  },
  {
   "cell_type": "markdown",
   "metadata": {},
   "source": [
    "You will notice that the visualizations update much slower - not only is the layout a more complex plot but matplotlib is now re-rendering two sets of plots at once and the results have to be communicated to the browser. For many elements, you will get get better performance using the [Bokeh backend](http://holoviews.org/Tutorials/Bokeh_Elements.html) and for more information about the options system, see the [Options tutorial](http://holoviews.org/Tutorials/Options.html)."
   ]
  }
 ],
 "metadata": {
  "kernelspec": {
   "display_name": "Python 2",
   "language": "python",
   "name": "python2"
  },
  "language_info": {
   "codemirror_mode": {
    "name": "ipython",
    "version": 2
   },
   "file_extension": ".py",
   "mimetype": "text/x-python",
   "name": "python",
   "nbconvert_exporter": "python",
   "pygments_lexer": "ipython2",
   "version": "2.7.12"
  }
 },
 "nbformat": 4,
 "nbformat_minor": 0
}

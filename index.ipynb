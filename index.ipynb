{
 "cells": [
  {
   "cell_type": "markdown",
   "metadata": {},
   "source": [
    "<div class=\"alert alert-warning\">\n",
    "  <strong>Notice:</strong> Live notebooks hosted on mybinder will have variable and sometimes quite slow performance, depending on mybinder's current usage levels. For this reason, we recommend using mybinder for initial exploration only. Running these notebooks locally using a <a href=\"https://github.com/jupyter/notebook\">Jupyter notebook server</a> will result in faster interaction and a smoother overall experience.\n",
    "</div>"
   ]
  },
  {
   "cell_type": "markdown",
   "metadata": {},
   "source": [
    "# HoloViews Notebooks"
   ]
  },
  {
   "cell_type": "markdown",
   "metadata": {},
   "source": [
    "Welcome the notebook index for the [HoloViews](http://holoviews.org) project, an index of user contributed notebooks to be explored live on [mybinder.org](http://mybinder.org/repo/ioam/holoviews-contrib).\n",
    "\n",
    "In addition to this index, we have two other lists of browsable content:\n",
    "\n",
    "* Static content including [notebooks and scripts](https://github.com/ioam/holoviews-contrib/blob/master/index.md)\n",
    "* External examples [listed in our wiki](https://github.com/ioam/holoviews-contrib/wiki/Notebook%20examples).\n",
    "\n",
    "In order to minimize the load on mybinder.org, please only use it when you wish to use a live Python kernel. For this reason, we recommend that new visitors start by browsing our [static index](https://github.com/ioam/holoviews-contrib/blob/master/index.md).\n",
    "\n",
    "## Quickstart guides\n",
    "\n",
    "* [Streams](notebooks/quickstart/streams.ipynb)\n",
    "* [Dynamic Rendering](notebooks/quickstart/dynamic_rendering.ipynb)\n",
    "\n",
    "\n",
    "## Latest release (1.6.2):\n",
    "\n",
    "* [Homepage](notebooks/1.6.2/Homepage.ipynb)\n",
    "* [Introduction](notebooks/1.6.2/Introduction.ipynb)\n",
    "* [Showcase](notebooks/1.6.2/Showcase.ipynb)\n",
    "* [Elements](notebooks/1.6.2/Elements.ipynb)\n",
    "* [Containers](notebooks/1.6.2/Containers.ipynb)\n",
    "* [DynamicMap](notebooks/1.6.2/Dynamic_Map.ipynb)\n",
    "* [Composing Data](notebooks/1.6.2/Composing_Data.ipynb)\n",
    "* [Sampling Data](notebooks/1.6.2/Sampling_Data.ipynb)\n",
    "* [Columnar Data](notebooks/1.6.2/Columnar_Data.ipynb)\n",
    "* [Exploring Data](notebooks/1.6.2/Exploring_Data.ipynb)\n",
    "* [Options](notebooks/1.6.2/Options.ipynb)\n",
    "* [Exporting](notebooks/1.6.2/Exporting.ipynb)\n",
    "* [Continuous Coordinates](notebooks/1.6.2/Continuous_Coordinates.ipynb)\n",
    "* [Pandas Conversion](notebooks/1.6.2/Pandas_Conversion.ipynb)\n",
    "* [Pandas Seaborn](notebooks/1.6.2/Pandas_Seaborn.ipynb)\n",
    "* [Bokeh Backend](notebooks/1.6.2/Bokeh_Backend.ipynb)\n",
    "* [Bokeh Elements](notebooks/1.6.2/Bokeh_Elements.ipynb)\n",
    "\n",
    "\n",
    "## Contributing\n",
    "\n",
    "To submit a contribution, please start with the [template notebook](https://github.com/ioam/holoviews-contrib/blob/master/notebooks/template.ipynb) as described on our [wiki page](https://github.com/ioam/holoviews-contrib/wiki/How%20to%20contribute). "
   ]
  }
 ],
 "metadata": {
  "anaconda-cloud": {},
  "kernelspec": {
   "display_name": "Python 3",
   "language": "python",
   "name": "python3"
  },
  "language_info": {
   "codemirror_mode": {
    "name": "ipython",
    "version": 3
   },
   "file_extension": ".py",
   "mimetype": "text/x-python",
   "name": "python",
   "nbconvert_exporter": "python",
   "pygments_lexer": "ipython3",
   "version": "3.5.2"
  }
 },
 "nbformat": 4,
 "nbformat_minor": 0
}

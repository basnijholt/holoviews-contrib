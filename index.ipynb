{
 "cells": [
  {
   "cell_type": "markdown",
   "metadata": {},
   "source": [
    "# HoloViews Notebook Index"
   ]
  },
  {
   "cell_type": "markdown",
   "metadata": {},
   "source": [
    "Welcome the HoloViews notebook index!\n",
    "\n",
    "This is an index of user contributed notebooks which may either be used live on [mybinder.org](http://mybinder.org/repo/ioam/holoviews-contrib) or which may be external links as [listed in our wiki](https://github.com/ioam/holoviews-contrib/wiki/Notebook%20examples).\n",
    "\n",
    "\n",
    "To submit a contribution, please start with the [template notebook](https://github.com/ioam/holoviews-contrib/blob/master/notebooks/template.ipynb) as described on our [wiki page](https://github.com/ioam/holoviews-contrib/wiki/How%20to%20contribute). In order to minimize the load on mybinder.org, please only use it when you need a live Python kernel. For static notebooks such as this one, you can [view them directly on GitHub](https://github.com/ioam/holoviews-contrib/blob/master/index.ipynb).\n",
    "\n",
    "\n",
    "## Latest release (1.6.2):\n",
    "\n",
    "* [Homepage](notebooks/1.6.2/Homepage.ipynb)\n",
    "* [Introduction](notebooks/1.6.2/Introduction.ipynb)\n",
    "* [Showcase](notebooks/1.6.2/Showcase.ipynb)\n",
    "* [Elements](notebooks/1.6.2/Elements.ipynb)\n",
    "* [Containers](notebooks/1.6.2/Containers.ipynb)\n",
    "* [DynamicMap](notebooks/1.6.2/Dynamic_Map.ipynb)\n",
    "* [Composing Data](notebooks/1.6.2/Composing_Data.ipynb)\n",
    "* [Sampling Data](notebooks/1.6.2/Sampling_Data.ipynb)\n",
    "* [Columnar Data](notebooks/1.6.2/Columnar_Data.ipynb)\n",
    "* [Exploring Data](notebooks/1.6.2/Exploring_Data.ipynb)\n",
    "* [Options.ipynb](notebooks/1.6.2/Options.ipynb)\n",
    "* [Exporting](notebooks/1.6.2/Exporting.ipynb)\n",
    "* [Continuous Coordinates](notebooks/1.6.2/Continuous_Coordinates.ipynb)\n",
    "* [Pandas Conversion](notebooks/1.6.2/Pandas_Conversion.ipynb)\n",
    "* [Pandas Seaborn](notebooks/1.6.2/Pandas_Seaborn.ipynb)\n",
    "* [Bokeh Backend](notebooks/1.6.2/Bokeh_Backend.ipynb)\n",
    "* [Bokeh Elements](notebooks/1.6.2/Bokeh_Elements.ipynb)"
   ]
  }
 ],
 "metadata": {
  "anaconda-cloud": {},
  "kernelspec": {
   "display_name": "Python [default]",
   "language": "python",
   "name": "python3"
  },
  "language_info": {
   "codemirror_mode": {
    "name": "ipython",
    "version": 3
   },
   "file_extension": ".py",
   "mimetype": "text/x-python",
   "name": "python",
   "nbconvert_exporter": "python",
   "pygments_lexer": "ipython3",
   "version": "3.5.2"
  }
 },
 "nbformat": 4,
 "nbformat_minor": 0
}
